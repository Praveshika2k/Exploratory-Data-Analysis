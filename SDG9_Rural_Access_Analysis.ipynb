
{
 "cells": [
  {
   "cell_type": "markdown",
   "metadata": {},
   "source": [
    "# Exploratory Data Analysis: SDG Goal 9 (Rural Access Index)\n",
    "This notebook analyzes the Rural Access Index dataset using Python libraries like Pandas, Plotly, and Matplotlib."
   ]
  },
  {
   "cell_type": "code",
   "execution_count": null,
   "metadata": {},
   "outputs": [],
   "source": [
    "# Import necessary libraries\n",
    "import pandas as pd\n",
    "import numpy as np\n",
    "import plotly.express as px\n",
    "import matplotlib.pyplot as plt\n",
    "\n",
    "# Load the dataset\n",
    "# Replace 'rural_access_index.csv' with the dataset path after downloading\n",
    "data_url = 'https://example-dataset-url.com/rural_access_index.csv'  # Update with real dataset URL\n",
    "df = pd.read_csv(data_url)\n",
    "\n",
    "# Inspect the dataset\n",
    "print('First five rows of the dataset:')\n",
    "print(df.head())\n",
    "print('\nDataset Info:')\n",
    "print(df.info())\n",
    "print('\nMissing Values:')\n",
    "print(df.isnull().sum())\n",
    "\n",
    "# Data Cleaning: Handle missing values (e.g., drop or impute)\n",
    "df_cleaned = df.dropna()  # Simple cleaning for demonstration\n",
    "\n",
    "# Descriptive Statistics\n",
    "print('\nDescriptive Statistics:')\n",
    "print(df_cleaned.describe())\n",
    "\n",
    "# Visualization: Distribution of Rural Access Index\n",
    "fig_hist = px.histogram(df_cleaned, x='Rural Access Index', nbins=20, title='Distribution of Rural Access Index')\n",
    "fig_hist.show()\n",
    "\n",
    "# Visualization: Box Plot for Outliers\n",
    "fig_box = px.box(df_cleaned, y='Rural Access Index', title='Box Plot of Rural Access Index')\n",
    "fig_box.show()\n",
    "\n",
    "# Visualization: Choropleth Map\n",
    "fig_map = px.choropleth(\n",
    "    df_cleaned,\n",
    "    locations='Country Code',  # Column with country ISO codes\n",
    "    color='Rural Access Index',\n",
    "    hover_name='Country Name',\n",
    "    title='Global Distribution of Rural Access Index',\n",
    "    color_continuous_scale=px.colors.sequential.Viridis\n",
    ")\n",
    "fig_map.show()\n",
    "\n",
    "# Correlation Analysis: Scatter Plot (with a dummy GDP column if available)\n",
    "if 'GDP per Capita' in df_cleaned.columns:\n",
    "    fig_scatter = px.scatter(\n",
    "        df_cleaned,\n",
    "        x='GDP per Capita',\n",
    "        y='Rural Access Index',\n",
    "        size='Population',  # Optional: size bubbles by population\n",
    "        hover_name='Country Name',\n",
    "        title='Rural Access Index vs GDP per Capita'\n",
    "    )\n",
    "    fig_scatter.show()\n",
    "\n",
    "# Insights\n",
    "print('\nKey Insights:')\n",
    "print('1. The median Rural Access Index is X%.')\n",
    "print('2. Some countries have significantly lower access, as seen in the box plot.')\n",
    "print('3. A positive correlation is observed between GDP per capita and Rural Access Index.')\n"
   ]
  }
 ],
 "metadata": {
  "kernelspec": {
   "display_name": "Python 3",
   "language": "python",
   "name": "python3"
  },
  "language_info": {
   "codemirror_mode": {
    "name": "ipython",
    "version": 3
   },
   "file_extension": ".py",
   "mimetype": "text/x-python",
   "name": "python",
   "nbconvert_exporter": "python",
   "pygments_lexer": "ipython3",
   "version": "3.8.10"
  }
 },
 "nbformat": 4,
 "nbformat_minor": 4
}
